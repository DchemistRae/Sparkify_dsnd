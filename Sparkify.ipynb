{
 "cells": [
  {
   "cell_type": "markdown",
   "metadata": {},
   "source": [
    "# Sparkify Project Workspace\n",
    "This workspace contains a tiny subset (128MB) of the full dataset available (12GB). Using this workspace, a sparkify project will be built to evaluate and predict sparkify customer churn activity."
   ]
  },
  {
   "cell_type": "code",
   "execution_count": 28,
   "metadata": {},
   "outputs": [],
   "source": [
    "# import libraries\n",
    "from pyspark.sql import SparkSession\n",
    "from pyspark.sql.types import StringType\n",
    "from pyspark.sql.types import IntegerType\n",
    "from pyspark.sql.functions import *\n",
    "\n",
    "from pyspark.ml.feature import OneHotEncoderEstimator\n",
    "from pyspark.ml.feature import StringIndexer\n",
    "from pyspark.ml.linalg import Vectors\n",
    "from pyspark.ml.feature import VectorAssembler\n",
    "from pyspark.ml import Pipeline\n",
    "from pyspark.ml.classification import LogisticRegression\n",
    "from pyspark.ml.classification import RandomForestClassifier\n",
    "\n",
    "from pyspark.ml.evaluation import BinaryClassificationEvaluator, MulticlassClassificationEvaluator\n",
    "from pyspark.mllib.evaluation import BinaryClassificationMetrics\n",
    "from pyspark.mllib.evaluation import MulticlassMetrics\n",
    "from pyspark.mllib.classification import LogisticRegressionWithLBFGS\n",
    "from pyspark.ml.tuning import CrossValidator, ParamGridBuilder\n",
    "\n",
    "\n",
    "import datetime\n",
    "import numpy as np\n",
    "import pandas as pd\n",
    "import seaborn as sns\n",
    "import matplotlib.pyplot as plt\n",
    "%matplotlib inline"
   ]
  },
  {
   "cell_type": "code",
   "execution_count": 29,
   "metadata": {},
   "outputs": [],
   "source": [
    "# create a Spark session\n",
    "spark = SparkSession.builder.appName('sparkify-project').getOrCreate()"
   ]
  },
  {
   "cell_type": "markdown",
   "metadata": {},
   "source": [
    "# Load and Clean Dataset\n",
    "In this workspace, the mini-dataset file is `mini_sparkify_event_data.json`. Load and clean the dataset, checking for invalid or missing data - for example, records without userids or sessionids. "
   ]
  },
  {
   "cell_type": "code",
   "execution_count": 30,
   "metadata": {},
   "outputs": [],
   "source": [
    "# Load data \n",
    "path = 'mini_sparkify_event_data.json'\n",
    "df = spark.read.json(path)"
   ]
  },
  {
   "cell_type": "code",
   "execution_count": 31,
   "metadata": {},
   "outputs": [
    {
     "name": "stdout",
     "output_type": "stream",
     "text": [
      "+-------+------------------+\n",
      "|summary|            userId|\n",
      "+-------+------------------+\n",
      "|  count|            286500|\n",
      "|   mean| 59682.02278593872|\n",
      "| stddev|109091.94999910535|\n",
      "|    min|                  |\n",
      "|    max|                99|\n",
      "+-------+------------------+\n",
      "\n"
     ]
    }
   ],
   "source": [
    "df.describe('userId').show()"
   ]
  },
  {
   "cell_type": "code",
   "execution_count": 32,
   "metadata": {},
   "outputs": [
    {
     "name": "stdout",
     "output_type": "stream",
     "text": [
      "+-------+-----------------+\n",
      "|summary|        sessionId|\n",
      "+-------+-----------------+\n",
      "|  count|           286500|\n",
      "|   mean|1041.526554973822|\n",
      "| stddev|726.7762634630799|\n",
      "|    min|                1|\n",
      "|    max|             2474|\n",
      "+-------+-----------------+\n",
      "\n"
     ]
    }
   ],
   "source": [
    "df.describe('sessionId').show()"
   ]
  },
  {
   "cell_type": "code",
   "execution_count": 33,
   "metadata": {},
   "outputs": [
    {
     "data": {
      "text/plain": [
       "8346"
      ]
     },
     "execution_count": 33,
     "metadata": {},
     "output_type": "execute_result"
    }
   ],
   "source": [
    "# Check blank users\n",
    "df.filter(df['userId'] == '').count()"
   ]
  },
  {
   "cell_type": "code",
   "execution_count": 34,
   "metadata": {},
   "outputs": [
    {
     "data": {
      "text/plain": [
       "0"
      ]
     },
     "execution_count": 34,
     "metadata": {},
     "output_type": "execute_result"
    }
   ],
   "source": [
    "# Check blank sessionIds\n",
    "df.filter(df['sessionId'] == '').count()"
   ]
  },
  {
   "cell_type": "code",
   "execution_count": 35,
   "metadata": {},
   "outputs": [],
   "source": [
    "def clean_data(data):\n",
    "    '''\n",
    "    Removes invalid entries from dataset(entries with blank userids)\n",
    "    \n",
    "    Input:\n",
    "    spark dataset to be cleaned\n",
    "    \n",
    "    Return:\n",
    "    dataset with invalid entries removed\n",
    "    '''\n",
    "    clean_data = data.filter(data[\"userId\"] != \"\")\n",
    "    \n",
    "    return clean_data"
   ]
  },
  {
   "cell_type": "code",
   "execution_count": 36,
   "metadata": {},
   "outputs": [],
   "source": [
    "# Clean the dataset\n",
    "df = clean_data(df)"
   ]
  },
  {
   "cell_type": "markdown",
   "metadata": {},
   "source": [
    "# Exploratory Data Analysis\n",
    "When you're working with the full dataset, perform EDA by loading a small subset of the data and doing basic manipulations within Spark. In this workspace, you are already provided a small subset of data you can explore.\n"
   ]
  },
  {
   "cell_type": "code",
   "execution_count": 37,
   "metadata": {},
   "outputs": [
    {
     "data": {
      "text/plain": [
       "278154"
      ]
     },
     "execution_count": 37,
     "metadata": {},
     "output_type": "execute_result"
    }
   ],
   "source": [
    "# Less entries after removing invalid entries\n",
    "df.count()"
   ]
  },
  {
   "cell_type": "code",
   "execution_count": 38,
   "metadata": {},
   "outputs": [
    {
     "name": "stdout",
     "output_type": "stream",
     "text": [
      "root\n",
      " |-- artist: string (nullable = true)\n",
      " |-- auth: string (nullable = true)\n",
      " |-- firstName: string (nullable = true)\n",
      " |-- gender: string (nullable = true)\n",
      " |-- itemInSession: long (nullable = true)\n",
      " |-- lastName: string (nullable = true)\n",
      " |-- length: double (nullable = true)\n",
      " |-- level: string (nullable = true)\n",
      " |-- location: string (nullable = true)\n",
      " |-- method: string (nullable = true)\n",
      " |-- page: string (nullable = true)\n",
      " |-- registration: long (nullable = true)\n",
      " |-- sessionId: long (nullable = true)\n",
      " |-- song: string (nullable = true)\n",
      " |-- status: long (nullable = true)\n",
      " |-- ts: long (nullable = true)\n",
      " |-- userAgent: string (nullable = true)\n",
      " |-- userId: string (nullable = true)\n",
      "\n"
     ]
    }
   ],
   "source": [
    "# Print data schema\n",
    "df.printSchema()"
   ]
  },
  {
   "cell_type": "code",
   "execution_count": 39,
   "metadata": {},
   "outputs": [
    {
     "data": {
      "text/plain": [
       "DataFrame[summary: string, artist: string, auth: string, firstName: string, gender: string, itemInSession: string, lastName: string, length: string, level: string, location: string, method: string, page: string, registration: string, sessionId: string, song: string, status: string, ts: string, userAgent: string, userId: string]"
      ]
     },
     "execution_count": 39,
     "metadata": {},
     "output_type": "execute_result"
    }
   ],
   "source": [
    "# More data information\n",
    "df.describe()"
   ]
  },
  {
   "cell_type": "code",
   "execution_count": 40,
   "metadata": {},
   "outputs": [
    {
     "name": "stdout",
     "output_type": "stream",
     "text": [
      "+----------------+---------+---------+------+-------------+--------+---------+-----+--------------------+------+--------+-------------+---------+-----------------+------+-------------+--------------------+------+\n",
      "|          artist|     auth|firstName|gender|itemInSession|lastName|   length|level|            location|method|    page| registration|sessionId|             song|status|           ts|           userAgent|userId|\n",
      "+----------------+---------+---------+------+-------------+--------+---------+-----+--------------------+------+--------+-------------+---------+-----------------+------+-------------+--------------------+------+\n",
      "|  Martha Tilston|Logged In|    Colin|     M|           50| Freeman|277.89016| paid|     Bakersfield, CA|   PUT|NextSong|1538173362000|       29|        Rockpools|   200|1538352117000|Mozilla/5.0 (Wind...|    30|\n",
      "|Five Iron Frenzy|Logged In|    Micah|     M|           79|    Long|236.09424| free|Boston-Cambridge-...|   PUT|NextSong|1538331630000|        8|           Canada|   200|1538352180000|\"Mozilla/5.0 (Win...|     9|\n",
      "|    Adam Lambert|Logged In|    Colin|     M|           51| Freeman| 282.8273| paid|     Bakersfield, CA|   PUT|NextSong|1538173362000|       29|Time For Miracles|   200|1538352394000|Mozilla/5.0 (Wind...|    30|\n",
      "+----------------+---------+---------+------+-------------+--------+---------+-----+--------------------+------+--------+-------------+---------+-----------------+------+-------------+--------------------+------+\n",
      "only showing top 3 rows\n",
      "\n"
     ]
    }
   ],
   "source": [
    "# Show first 3 entries\n",
    "df.show(3)"
   ]
  },
  {
   "cell_type": "code",
   "execution_count": 41,
   "metadata": {},
   "outputs": [
    {
     "name": "stdout",
     "output_type": "stream",
     "text": [
      "artist count is 17656\n",
      "+--------------------+\n",
      "|              artist|\n",
      "+--------------------+\n",
      "|      The Black Keys|\n",
      "|         Silverstein|\n",
      "|           Kate Nash|\n",
      "|        Yann Tiersen|\n",
      "|    Jane's Addiction|\n",
      "|          Tim Hughes|\n",
      "|          Carl Craig|\n",
      "|Dashboard Confess...|\n",
      "|Yonder Mountain S...|\n",
      "|           Los Lobos|\n",
      "|Pete Rock & C.L. ...|\n",
      "|        Ziggy Marley|\n",
      "|      Jarabe De Palo|\n",
      "|               Rufio|\n",
      "|WC And The Maad C...|\n",
      "|      Jorge Gonzalez|\n",
      "|                Silk|\n",
      "|  The Watts Prophets|\n",
      "|            La Shica|\n",
      "|        Generation X|\n",
      "+--------------------+\n",
      "only showing top 20 rows\n",
      "\n"
     ]
    }
   ],
   "source": [
    "# Check Artist column\n",
    "def check_column(column_name):\n",
    "    '''\n",
    "    show details about a given column \n",
    "    \n",
    "    Input:\n",
    "    string name for column of interest\n",
    "    \n",
    "    Return:\n",
    "    count and display of unique items in a chosen column\n",
    "    '''\n",
    "    column = df.select(column_name).dropDuplicates()\n",
    "    print('{} count is {}'.format(column_name, column.count()))\n",
    "    column.show()\n",
    "    \n",
    "check_column('artist')    "
   ]
  },
  {
   "cell_type": "code",
   "execution_count": 42,
   "metadata": {},
   "outputs": [
    {
     "name": "stdout",
     "output_type": "stream",
     "text": [
      "auth count is 2\n",
      "+---------+\n",
      "|     auth|\n",
      "+---------+\n",
      "|Cancelled|\n",
      "|Logged In|\n",
      "+---------+\n",
      "\n"
     ]
    }
   ],
   "source": [
    "# check Auth column\n",
    "check_column('auth')"
   ]
  },
  {
   "cell_type": "code",
   "execution_count": 43,
   "metadata": {},
   "outputs": [
    {
     "name": "stdout",
     "output_type": "stream",
     "text": [
      "gender count is 2\n",
      "+------+\n",
      "|gender|\n",
      "+------+\n",
      "|     F|\n",
      "|     M|\n",
      "+------+\n",
      "\n"
     ]
    }
   ],
   "source": [
    "# check gender\n",
    "check_column('gender')"
   ]
  },
  {
   "cell_type": "code",
   "execution_count": 44,
   "metadata": {},
   "outputs": [
    {
     "name": "stdout",
     "output_type": "stream",
     "text": [
      "itemInSession count is 1311\n",
      "+-------------+\n",
      "|itemInSession|\n",
      "+-------------+\n",
      "|           26|\n",
      "|           29|\n",
      "|          474|\n",
      "|          964|\n",
      "|           65|\n",
      "|          191|\n",
      "|          418|\n",
      "|          541|\n",
      "|          558|\n",
      "|         1010|\n",
      "|         1224|\n",
      "|         1258|\n",
      "|         1277|\n",
      "|          222|\n",
      "|          270|\n",
      "|          293|\n",
      "|          730|\n",
      "|          938|\n",
      "|         1127|\n",
      "|         1145|\n",
      "+-------------+\n",
      "only showing top 20 rows\n",
      "\n"
     ]
    }
   ],
   "source": [
    "# Check itemInSession\n",
    "check_column('itemInSession')"
   ]
  },
  {
   "cell_type": "code",
   "execution_count": 45,
   "metadata": {},
   "outputs": [
    {
     "name": "stdout",
     "output_type": "stream",
     "text": [
      "length count is 14866\n",
      "+---------+\n",
      "|   length|\n",
      "+---------+\n",
      "|200.75057|\n",
      "|317.30893|\n",
      "|260.28363|\n",
      "|241.94567|\n",
      "|262.79138|\n",
      "|216.47628|\n",
      "|361.66485|\n",
      "|231.94077|\n",
      "|375.03955|\n",
      "|213.75955|\n",
      "|429.16526|\n",
      "|381.77914|\n",
      "|347.81995|\n",
      "|227.83955|\n",
      "|356.20526|\n",
      "|401.76281|\n",
      "|387.16036|\n",
      "|216.97261|\n",
      "|170.97098|\n",
      "|174.23628|\n",
      "+---------+\n",
      "only showing top 20 rows\n",
      "\n"
     ]
    }
   ],
   "source": [
    "# Check length\n",
    "check_column('length')"
   ]
  },
  {
   "cell_type": "code",
   "execution_count": 46,
   "metadata": {},
   "outputs": [
    {
     "name": "stdout",
     "output_type": "stream",
     "text": [
      "level count is 2\n",
      "+-----+\n",
      "|level|\n",
      "+-----+\n",
      "| free|\n",
      "| paid|\n",
      "+-----+\n",
      "\n"
     ]
    }
   ],
   "source": [
    "# Check level\n",
    "check_column('level')"
   ]
  },
  {
   "cell_type": "code",
   "execution_count": 47,
   "metadata": {},
   "outputs": [
    {
     "name": "stdout",
     "output_type": "stream",
     "text": [
      "location count is 114\n",
      "+--------------------+\n",
      "|            location|\n",
      "+--------------------+\n",
      "|     Gainesville, FL|\n",
      "|Atlantic City-Ham...|\n",
      "|Deltona-Daytona B...|\n",
      "|San Diego-Carlsba...|\n",
      "|Cleveland-Elyria, OH|\n",
      "|Kingsport-Bristol...|\n",
      "|New Haven-Milford...|\n",
      "|Birmingham-Hoover...|\n",
      "|  Corpus Christi, TX|\n",
      "|         Dubuque, IA|\n",
      "|Las Vegas-Henders...|\n",
      "|Indianapolis-Carm...|\n",
      "|Seattle-Tacoma-Be...|\n",
      "|          Albany, OR|\n",
      "|   Winston-Salem, NC|\n",
      "|     Bakersfield, CA|\n",
      "|Los Angeles-Long ...|\n",
      "|Minneapolis-St. P...|\n",
      "|San Francisco-Oak...|\n",
      "|Phoenix-Mesa-Scot...|\n",
      "+--------------------+\n",
      "only showing top 20 rows\n",
      "\n"
     ]
    }
   ],
   "source": [
    "# Check location\n",
    "check_column('location')"
   ]
  },
  {
   "cell_type": "code",
   "execution_count": 48,
   "metadata": {},
   "outputs": [
    {
     "name": "stdout",
     "output_type": "stream",
     "text": [
      "method count is 2\n",
      "+------+\n",
      "|method|\n",
      "+------+\n",
      "|   PUT|\n",
      "|   GET|\n",
      "+------+\n",
      "\n"
     ]
    }
   ],
   "source": [
    "# Check method\n",
    "check_column('method')"
   ]
  },
  {
   "cell_type": "code",
   "execution_count": 49,
   "metadata": {},
   "outputs": [
    {
     "name": "stdout",
     "output_type": "stream",
     "text": [
      "page count is 19\n",
      "+--------------------+\n",
      "|                page|\n",
      "+--------------------+\n",
      "|              Cancel|\n",
      "|    Submit Downgrade|\n",
      "|         Thumbs Down|\n",
      "|                Home|\n",
      "|           Downgrade|\n",
      "|         Roll Advert|\n",
      "|              Logout|\n",
      "|       Save Settings|\n",
      "|Cancellation Conf...|\n",
      "|               About|\n",
      "|            Settings|\n",
      "|     Add to Playlist|\n",
      "|          Add Friend|\n",
      "|            NextSong|\n",
      "|           Thumbs Up|\n",
      "|                Help|\n",
      "|             Upgrade|\n",
      "|               Error|\n",
      "|      Submit Upgrade|\n",
      "+--------------------+\n",
      "\n"
     ]
    }
   ],
   "source": [
    "# Check page\n",
    "check_column('page')"
   ]
  },
  {
   "cell_type": "code",
   "execution_count": 50,
   "metadata": {},
   "outputs": [
    {
     "name": "stdout",
     "output_type": "stream",
     "text": [
      "registration count is 225\n",
      "+-------------+\n",
      "| registration|\n",
      "+-------------+\n",
      "|1529027541000|\n",
      "|1533192032000|\n",
      "|1537779419000|\n",
      "|1534627466000|\n",
      "|1535389443000|\n",
      "|1536642109000|\n",
      "|1537167593000|\n",
      "|1536854322000|\n",
      "|1533908361000|\n",
      "|1536817381000|\n",
      "|1536663902000|\n",
      "|1537672236000|\n",
      "|1536956945000|\n",
      "|1537611935000|\n",
      "|1537751138000|\n",
      "|1533532298000|\n",
      "|1537057938000|\n",
      "|1537964483000|\n",
      "|1528772084000|\n",
      "|1537440271000|\n",
      "+-------------+\n",
      "only showing top 20 rows\n",
      "\n"
     ]
    }
   ],
   "source": [
    "# Check Registration\n",
    "check_column('registration')"
   ]
  },
  {
   "cell_type": "code",
   "execution_count": 51,
   "metadata": {},
   "outputs": [
    {
     "name": "stdout",
     "output_type": "stream",
     "text": [
      "sessionId count is 2312\n",
      "+---------+\n",
      "|sessionId|\n",
      "+---------+\n",
      "|       29|\n",
      "|       26|\n",
      "|      474|\n",
      "|      964|\n",
      "|     1697|\n",
      "|     1806|\n",
      "|     2040|\n",
      "|     1950|\n",
      "|     2214|\n",
      "|      418|\n",
      "|       65|\n",
      "|      541|\n",
      "|      558|\n",
      "|     1010|\n",
      "|     1224|\n",
      "|     1277|\n",
      "|     1258|\n",
      "|     1360|\n",
      "|     1840|\n",
      "|     2173|\n",
      "+---------+\n",
      "only showing top 20 rows\n",
      "\n"
     ]
    }
   ],
   "source": [
    "# Check sessionId\n",
    "check_column('sessionId')"
   ]
  },
  {
   "cell_type": "code",
   "execution_count": 52,
   "metadata": {},
   "outputs": [
    {
     "name": "stdout",
     "output_type": "stream",
     "text": [
      "song count is 58481\n",
      "+--------------------+\n",
      "|                song|\n",
      "+--------------------+\n",
      "|Never Gonna Be Al...|\n",
      "|         TULENLIEKKI|\n",
      "|      Underwaterboys|\n",
      "|Saor (Free)/News ...|\n",
      "|               New E|\n",
      "|The Geeks Were Right|\n",
      "|              Heaven|\n",
      "|      Call Me Manana|\n",
      "|             Push It|\n",
      "|Cool Monsoon (Wea...|\n",
      "|The Fun Lovin' Cr...|\n",
      "|Turn Your Lights ...|\n",
      "|          Growing Up|\n",
      "|          Positivity|\n",
      "|         Miracle Man|\n",
      "|        I'm The Drug|\n",
      "|I've Just Seen A ...|\n",
      "|            Anna May|\n",
      "|All The Things Sh...|\n",
      "|    Blue Suede Shoes|\n",
      "+--------------------+\n",
      "only showing top 20 rows\n",
      "\n"
     ]
    }
   ],
   "source": [
    "# Check song\n",
    "check_column('song')"
   ]
  },
  {
   "cell_type": "code",
   "execution_count": 53,
   "metadata": {},
   "outputs": [
    {
     "name": "stdout",
     "output_type": "stream",
     "text": [
      "status count is 3\n",
      "+------+\n",
      "|status|\n",
      "+------+\n",
      "|   307|\n",
      "|   404|\n",
      "|   200|\n",
      "+------+\n",
      "\n"
     ]
    }
   ],
   "source": [
    "# Check status\n",
    "check_column('status')"
   ]
  },
  {
   "cell_type": "code",
   "execution_count": 54,
   "metadata": {},
   "outputs": [
    {
     "name": "stdout",
     "output_type": "stream",
     "text": [
      "ts count is 269770\n",
      "+-------------+\n",
      "|           ts|\n",
      "+-------------+\n",
      "|1538360520000|\n",
      "|1538368903000|\n",
      "|1538380099000|\n",
      "|1538380879000|\n",
      "|1538390386000|\n",
      "|1538399222000|\n",
      "|1538402692000|\n",
      "|1538405492000|\n",
      "|1538411816000|\n",
      "|1538420258000|\n",
      "|1538422643000|\n",
      "|1538423103000|\n",
      "|1538428266000|\n",
      "|1538433192000|\n",
      "|1538435390000|\n",
      "|1538439836000|\n",
      "|1538453678000|\n",
      "|1538471202000|\n",
      "|1538494626000|\n",
      "|1538495500000|\n",
      "+-------------+\n",
      "only showing top 20 rows\n",
      "\n"
     ]
    }
   ],
   "source": [
    "# Check ts\n",
    "check_column('ts')"
   ]
  },
  {
   "cell_type": "code",
   "execution_count": 55,
   "metadata": {},
   "outputs": [
    {
     "name": "stdout",
     "output_type": "stream",
     "text": [
      "userAgent count is 56\n",
      "+--------------------+\n",
      "|           userAgent|\n",
      "+--------------------+\n",
      "|\"Mozilla/5.0 (Mac...|\n",
      "|\"Mozilla/5.0 (Win...|\n",
      "|Mozilla/5.0 (X11;...|\n",
      "|\"Mozilla/5.0 (Mac...|\n",
      "|\"Mozilla/5.0 (Mac...|\n",
      "|Mozilla/5.0 (Maci...|\n",
      "|Mozilla/5.0 (Wind...|\n",
      "|Mozilla/5.0 (Wind...|\n",
      "|Mozilla/5.0 (comp...|\n",
      "|\"Mozilla/5.0 (Win...|\n",
      "|Mozilla/5.0 (Maci...|\n",
      "|\"Mozilla/5.0 (Win...|\n",
      "|\"Mozilla/5.0 (iPh...|\n",
      "|\"Mozilla/5.0 (Win...|\n",
      "|Mozilla/5.0 (Wind...|\n",
      "|Mozilla/5.0 (comp...|\n",
      "|Mozilla/5.0 (comp...|\n",
      "|\"Mozilla/5.0 (Mac...|\n",
      "|\"Mozilla/5.0 (Mac...|\n",
      "|\"Mozilla/5.0 (Win...|\n",
      "+--------------------+\n",
      "only showing top 20 rows\n",
      "\n"
     ]
    }
   ],
   "source": [
    "# Check userAgent\n",
    "check_column('userAgent')"
   ]
  },
  {
   "cell_type": "code",
   "execution_count": 56,
   "metadata": {},
   "outputs": [
    {
     "name": "stdout",
     "output_type": "stream",
     "text": [
      "userId count is 225\n",
      "+------+\n",
      "|userId|\n",
      "+------+\n",
      "|100010|\n",
      "|200002|\n",
      "|   125|\n",
      "|    51|\n",
      "|   124|\n",
      "|     7|\n",
      "|    54|\n",
      "|    15|\n",
      "|   155|\n",
      "|   132|\n",
      "|   154|\n",
      "|100014|\n",
      "|   101|\n",
      "|    11|\n",
      "|   138|\n",
      "|300017|\n",
      "|    29|\n",
      "|    69|\n",
      "|100021|\n",
      "|    42|\n",
      "+------+\n",
      "only showing top 20 rows\n",
      "\n"
     ]
    }
   ],
   "source": [
    "# Check userId\n",
    "check_column('userId')"
   ]
  },
  {
   "cell_type": "markdown",
   "metadata": {},
   "source": [
    "### Define Churn\n",
    "\n",
    "After preliminary analysis, A column will be created `Churn` to use as label for the ML model. This column will be defined based on `Cancellation confirmation` events of members which happen for both paid and free users.\n",
    "\n",
    "**Churn** according to the ProductPlan website linked [here](https://www.productplan.com/glossary/churn/) may be defined as `a measurement of the percentage of accounts that cancel or choose not to renew their subscriptions. A high churn rate can negatively impact Monthly Recurring Revenue (MRR) and can also indicate dissatisfaction with a product or service.`"
   ]
  },
  {
   "cell_type": "code",
   "execution_count": 57,
   "metadata": {},
   "outputs": [],
   "source": [
    "# Identify churn\n",
    "identify_churn = udf(lambda x: 1 if x == 'Cancellation Confirmation' else 0, IntegerType())\n",
    "df = df.withColumn('churn_events', identify_churn(col('page')))"
   ]
  },
  {
   "cell_type": "code",
   "execution_count": 58,
   "metadata": {},
   "outputs": [
    {
     "name": "stdout",
     "output_type": "stream",
     "text": [
      "churned Users : 52\n"
     ]
    }
   ],
   "source": [
    "churned_users = df.select('userId','churn_events').filter(df['churn_events'] == 1).distinct()\n",
    "print('churned Users : {}'.format(churned_users.count()))"
   ]
  },
  {
   "cell_type": "code",
   "execution_count": 59,
   "metadata": {},
   "outputs": [
    {
     "name": "stdout",
     "output_type": "stream",
     "text": [
      "Staying Users : 173\n"
     ]
    }
   ],
   "source": [
    "# Get users that did not cancel\n",
    "staying_users = df.join(churned_users, [\"userId\"], \"left_anti\")\n",
    "\n",
    "# Print number of users that did not churn\n",
    "print('Staying Users : {}'.format(staying_users.select(col(\"userId\")).distinct().count()))"
   ]
  },
  {
   "cell_type": "markdown",
   "metadata": {},
   "source": [
    "**Out of a total of 225 users, 52 users churned while 173 users stayed. An unbalanced dataset may affect decisions on model type and evaluation metrics to be used**"
   ]
  },
  {
   "cell_type": "code",
   "execution_count": 60,
   "metadata": {},
   "outputs": [],
   "source": [
    "# Create dataframe of churned users\n",
    "churned_df = df.join(churned_users, \"userid\", \"inner\")\n",
    "churned_df = churned_df.drop('churn_events')\n",
    "churned_df = churned_df.withColumn('churn', lit(1))"
   ]
  },
  {
   "cell_type": "code",
   "execution_count": 61,
   "metadata": {},
   "outputs": [],
   "source": [
    "# Prepare dataframe of staying users\n",
    "staying_users = staying_users.drop('churn_events')\n",
    "staying_users = staying_users.withColumn('churn', lit(0))"
   ]
  },
  {
   "cell_type": "code",
   "execution_count": 62,
   "metadata": {},
   "outputs": [],
   "source": [
    "# merge both dfs above to get a full dataframe with churn variable\n",
    "df = staying_users.unionAll(churned_df)"
   ]
  },
  {
   "cell_type": "code",
   "execution_count": 63,
   "metadata": {},
   "outputs": [
    {
     "name": "stdout",
     "output_type": "stream",
     "text": [
      "+------+--------------------+---------+---------+------+-------------+---------+---------+-----+--------------------+------+--------+-------------+---------+--------------------+------+-------------+--------------------+-----+\n",
      "|userId|              artist|     auth|firstName|gender|itemInSession| lastName|   length|level|            location|method|    page| registration|sessionId|                song|status|           ts|           userAgent|churn|\n",
      "+------+--------------------+---------+---------+------+-------------+---------+---------+-----+--------------------+------+--------+-------------+---------+--------------------+------+-------------+--------------------+-----+\n",
      "|100010|Sleeping With Sirens|Logged In| Darianna|     F|            0|Carpenter|202.97098| free|Bridgeport-Stamfo...|   PUT|NextSong|1538016340000|       31|Captain Tyin Knot...|   200|1539003534000|\"Mozilla/5.0 (iPh...|    0|\n",
      "|100010|Francesca Battist...|Logged In| Darianna|     F|            1|Carpenter|196.54485| free|Bridgeport-Stamfo...|   PUT|NextSong|1538016340000|       31|Beautiful_ Beauti...|   200|1539003736000|\"Mozilla/5.0 (iPh...|    0|\n",
      "+------+--------------------+---------+---------+------+-------------+---------+---------+-----+--------------------+------+--------+-------------+---------+--------------------+------+-------------+--------------------+-----+\n",
      "only showing top 2 rows\n",
      "\n"
     ]
    }
   ],
   "source": [
    "df.show(2)"
   ]
  },
  {
   "cell_type": "code",
   "execution_count": 64,
   "metadata": {},
   "outputs": [
    {
     "name": "stdout",
     "output_type": "stream",
     "text": [
      "+------+------+----+---------+------+-------------+--------+------+-----+--------+------+----+------------+---------+-----+------+---+---------+-----+\n",
      "|userId|artist|auth|firstName|gender|itemInSession|lastName|length|level|location|method|page|registration|sessionId| song|status| ts|userAgent|churn|\n",
      "+------+------+----+---------+------+-------------+--------+------+-----+--------+------+----+------------+---------+-----+------+---+---------+-----+\n",
      "|     0| 50046|   0|        0|     0|            0|       0| 50046|    0|       0|     0|   0|           0|        0|50046|     0|  0|        0|    0|\n",
      "+------+------+----+---------+------+-------------+--------+------+-----+--------+------+----+------------+---------+-----+------+---+---------+-----+\n",
      "\n"
     ]
    }
   ],
   "source": [
    "# Check missing values in data\n",
    "missing_value_counts = df.select([count(when(isnull(c), c)).alias(c) for c in df.columns])\n",
    "\n",
    "missing_value_counts.show()"
   ]
  },
  {
   "cell_type": "markdown",
   "metadata": {},
   "source": [
    "Artist, length and song all have the same number of missing values while all other columns have no missing values, this looks interesting"
   ]
  },
  {
   "cell_type": "code",
   "execution_count": 65,
   "metadata": {},
   "outputs": [
    {
     "name": "stdout",
     "output_type": "stream",
     "text": [
      "+------+------+---------+---------+------+-------------+---------+------+-----+--------------------+------+---------------+-------------+---------+----+------+-------------+--------------------+-----+\n",
      "|userId|artist|     auth|firstName|gender|itemInSession| lastName|length|level|            location|method|           page| registration|sessionId|song|status|           ts|           userAgent|churn|\n",
      "+------+------+---------+---------+------+-------------+---------+------+-----+--------------------+------+---------------+-------------+---------+----+------+-------------+--------------------+-----+\n",
      "|100010|  null|Logged In| Darianna|     F|            3|Carpenter|  null| free|Bridgeport-Stamfo...|   PUT|      Thumbs Up|1538016340000|       31|null|   307|1539003933000|\"Mozilla/5.0 (iPh...|    0|\n",
      "|100010|  null|Logged In| Darianna|     F|            8|Carpenter|  null| free|Bridgeport-Stamfo...|   GET|    Roll Advert|1538016340000|       31|null|   200|1539004961000|\"Mozilla/5.0 (iPh...|    0|\n",
      "|100010|  null|Logged In| Darianna|     F|           12|Carpenter|  null| free|Bridgeport-Stamfo...|   GET|    Roll Advert|1538016340000|       31|null|   200|1539005571000|\"Mozilla/5.0 (iPh...|    0|\n",
      "|100010|  null|Logged In| Darianna|     F|           14|Carpenter|  null| free|Bridgeport-Stamfo...|   PUT|      Thumbs Up|1538016340000|       31|null|   307|1539005601000|\"Mozilla/5.0 (iPh...|    0|\n",
      "|100010|  null|Logged In| Darianna|     F|           17|Carpenter|  null| free|Bridgeport-Stamfo...|   GET|    Roll Advert|1538016340000|       31|null|   200|1539006103000|\"Mozilla/5.0 (iPh...|    0|\n",
      "|100010|  null|Logged In| Darianna|     F|           19|Carpenter|  null| free|Bridgeport-Stamfo...|   GET|    Roll Advert|1538016340000|       31|null|   200|1539006331000|\"Mozilla/5.0 (iPh...|    0|\n",
      "|100010|  null|Logged In| Darianna|     F|           21|Carpenter|  null| free|Bridgeport-Stamfo...|   GET|    Roll Advert|1538016340000|       31|null|   200|1539006503000|\"Mozilla/5.0 (iPh...|    0|\n",
      "|100010|  null|Logged In| Darianna|     F|           32|Carpenter|  null| free|Bridgeport-Stamfo...|   GET|    Roll Advert|1538016340000|       31|null|   200|1539008656000|\"Mozilla/5.0 (iPh...|    0|\n",
      "|100010|  null|Logged In| Darianna|     F|           39|Carpenter|  null| free|Bridgeport-Stamfo...|   GET|    Roll Advert|1538016340000|       31|null|   200|1539010247000|\"Mozilla/5.0 (iPh...|    0|\n",
      "|100010|  null|Logged In| Darianna|     F|            4|Carpenter|  null| free|Bridgeport-Stamfo...|   GET|           Home|1538016340000|       78|null|   200|1539604089000|\"Mozilla/5.0 (iPh...|    0|\n",
      "|100010|  null|Logged In| Darianna|     F|            8|Carpenter|  null| free|Bridgeport-Stamfo...|   PUT|         Logout|1538016340000|       78|null|   307|1539604675000|\"Mozilla/5.0 (iPh...|    0|\n",
      "|100010|  null|Logged In| Darianna|     F|            1|Carpenter|  null| free|Bridgeport-Stamfo...|   GET|           Home|1538016340000|      113|null|   200|1539699018000|\"Mozilla/5.0 (iPh...|    0|\n",
      "|100010|  null|Logged In| Darianna|     F|            4|Carpenter|  null| free|Bridgeport-Stamfo...|   GET|    Roll Advert|1538016340000|      113|null|   200|1539699253000|\"Mozilla/5.0 (iPh...|    0|\n",
      "|100010|  null|Logged In| Darianna|     F|            5|Carpenter|  null| free|Bridgeport-Stamfo...|   GET|    Roll Advert|1538016340000|      113|null|   200|1539699258000|\"Mozilla/5.0 (iPh...|    0|\n",
      "|100010|  null|Logged In| Darianna|     F|            9|Carpenter|  null| free|Bridgeport-Stamfo...|   GET|    Roll Advert|1538016340000|      113|null|   200|1539699985000|\"Mozilla/5.0 (iPh...|    0|\n",
      "|100010|  null|Logged In| Darianna|     F|           11|Carpenter|  null| free|Bridgeport-Stamfo...|   PUT|Add to Playlist|1538016340000|      113|null|   200|1539700125000|\"Mozilla/5.0 (iPh...|    0|\n",
      "|100010|  null|Logged In| Darianna|     F|           13|Carpenter|  null| free|Bridgeport-Stamfo...|   PUT|         Logout|1538016340000|      113|null|   307|1539700404000|\"Mozilla/5.0 (iPh...|    0|\n",
      "|100010|  null|Logged In| Darianna|     F|           16|Carpenter|  null| free|Bridgeport-Stamfo...|   GET|           Home|1538016340000|      113|null|   200|1539700458000|\"Mozilla/5.0 (iPh...|    0|\n",
      "|100010|  null|Logged In| Darianna|     F|           21|Carpenter|  null| free|Bridgeport-Stamfo...|   GET|           Help|1538016340000|      113|null|   200|1539701346000|\"Mozilla/5.0 (iPh...|    0|\n",
      "|100010|  null|Logged In| Darianna|     F|           23|Carpenter|  null| free|Bridgeport-Stamfo...|   PUT|      Thumbs Up|1538016340000|      113|null|   307|1539701432000|\"Mozilla/5.0 (iPh...|    0|\n",
      "+------+------+---------+---------+------+-------------+---------+------+-----+--------------------+------+---------------+-------------+---------+----+------+-------------+--------------------+-----+\n",
      "only showing top 20 rows\n",
      "\n"
     ]
    }
   ],
   "source": [
    "# Show rows with missing values\n",
    "df_missing = df.filter(isnull('artist') | isnull('length') | isnull('song'))\n",
    "\n",
    "# Show the result\n",
    "df_missing.show()"
   ]
  },
  {
   "cell_type": "code",
   "execution_count": 66,
   "metadata": {},
   "outputs": [
    {
     "name": "stdout",
     "output_type": "stream",
     "text": [
      "There are 50046 data points missing in this dataset\n"
     ]
    }
   ],
   "source": [
    "print('There are {} data points missing in this dataset'.format(df_missing.count()))"
   ]
  },
  {
   "cell_type": "markdown",
   "metadata": {},
   "source": [
    "Apparently, the same entries are missing for artist lenth and song. In this case, it would be better to drop these rows with missing values rather than attempt to impute them."
   ]
  },
  {
   "cell_type": "code",
   "execution_count": 67,
   "metadata": {},
   "outputs": [
    {
     "name": "stdout",
     "output_type": "stream",
     "text": [
      "There are 228108 data points left after fropping NAs\n"
     ]
    }
   ],
   "source": [
    "# Drop missing values\n",
    "df = df.dropna()\n",
    "print('There are {} data points left after fropping NAs'.format(df.count()))"
   ]
  },
  {
   "cell_type": "code",
   "execution_count": 68,
   "metadata": {},
   "outputs": [],
   "source": [
    "# Convert time stamp to data and time format\n",
    "ts_to_time = udf(lambda x: datetime.datetime.fromtimestamp(x / 1000.0).strftime(\"%Y-%m-%d %H:%M:%S\"))\n",
    "\n",
    "df = df.withColumn('ts_formatted', ts_to_time(df['ts']))"
   ]
  },
  {
   "cell_type": "code",
   "execution_count": 69,
   "metadata": {},
   "outputs": [
    {
     "name": "stdout",
     "output_type": "stream",
     "text": [
      "+-------+-------------------+\n",
      "|summary|       ts_formatted|\n",
      "+-------+-------------------+\n",
      "|  count|             228108|\n",
      "|   mean|               null|\n",
      "| stddev|               null|\n",
      "|    min|2018-10-01 00:01:57|\n",
      "|    max|2018-12-03 01:11:16|\n",
      "+-------+-------------------+\n",
      "\n"
     ]
    }
   ],
   "source": [
    "df.describe('ts_formatted').show()"
   ]
  },
  {
   "cell_type": "markdown",
   "metadata": {},
   "source": [
    "This data is available for the period between November 10 to December 03 2018. Hence only two months of data in available in this dataset"
   ]
  },
  {
   "cell_type": "code",
   "execution_count": 70,
   "metadata": {},
   "outputs": [],
   "source": [
    "# Get membership duration in date and time format\n",
    "\n",
    "df = df.withColumn('registration_formatted', ts_to_time(df['registration']))\n",
    "df = df.withColumn(\"duration_days\", datediff('ts_formatted','registration_formatted').cast(IntegerType()))"
   ]
  },
  {
   "cell_type": "code",
   "execution_count": 71,
   "metadata": {},
   "outputs": [
    {
     "name": "stdout",
     "output_type": "stream",
     "text": [
      "+-------+----------------------+\n",
      "|summary|registration_formatted|\n",
      "+-------+----------------------+\n",
      "|  count|                228108|\n",
      "|   mean|                  null|\n",
      "| stddev|                  null|\n",
      "|    min|   2018-03-18 13:44:35|\n",
      "|    max|   2018-11-26 15:49:14|\n",
      "+-------+----------------------+\n",
      "\n"
     ]
    }
   ],
   "source": [
    "df.describe('registration_formatted').show()"
   ]
  },
  {
   "cell_type": "code",
   "execution_count": 72,
   "metadata": {},
   "outputs": [
    {
     "name": "stdout",
     "output_type": "stream",
     "text": [
      "+-------+-----------------+\n",
      "|summary|    duration_days|\n",
      "+-------+-----------------+\n",
      "|  count|           228108|\n",
      "|   mean|64.96596349097796|\n",
      "| stddev|41.97453324434323|\n",
      "|    min|               -2|\n",
      "|    max|              256|\n",
      "+-------+-----------------+\n",
      "\n"
     ]
    }
   ],
   "source": [
    "df.describe('duration_days').show()"
   ]
  },
  {
   "cell_type": "markdown",
   "metadata": {},
   "source": [
    "The oldest member registered on 18 March 2018 while the newest registered on 26 November 2018. With Registered users staying for an average of 64.9 days"
   ]
  },
  {
   "cell_type": "markdown",
   "metadata": {},
   "source": [
    "\n",
    "### Explore Data\n",
    "Further exploration and analysis to observe the behavior for users who stayed vs users who churned. Here aggregates of both groups with be explored to determine how much of a specific action they experienced or preferred. The following questions will be used to guide this part.\n",
    "\n",
    "    Which Gender have the most churn?\n",
    "    Which user level are more likely to churn? free or paid\n",
    "    How does membership duration in days affect churn?\n",
    "    How often do staying members use the service in comparison to churned users?\n",
    "    Does location affect churn?"
   ]
  },
  {
   "cell_type": "code",
   "execution_count": 73,
   "metadata": {},
   "outputs": [
    {
     "name": "stdout",
     "output_type": "stream",
     "text": [
      "staying users df has 233290 rows of data\n",
      "Churned users df has 44864 rows of data\n"
     ]
    }
   ],
   "source": [
    "# Show length of the two groups of users\n",
    "print('staying users df has {} rows of data'.format(staying_users.count()))\n",
    "print('Churned users df has {} rows of data'.format(churned_df.count()))"
   ]
  },
  {
   "cell_type": "code",
   "execution_count": 74,
   "metadata": {},
   "outputs": [],
   "source": [
    "#Import data to pandas and plot\n",
    "pd_df = df.toPandas()"
   ]
  },
  {
   "cell_type": "code",
   "execution_count": 75,
   "metadata": {},
   "outputs": [
    {
     "data": {
      "image/png": "[encoded data removed]",
      "text/plain": [
       "<matplotlib.figure.Figure at 0x7fe804856a58>"
      ]
     },
     "metadata": {
      "needs_background": "light"
     },
     "output_type": "display_data"
    }
   ],
   "source": [
    "# Show how gender may affect churn\n",
    "sns.countplot(x=\"gender\", hue=\"churn\", data=pd_df)\n",
    "# show the plot\n",
    "plt.show()"
   ]
  },
  {
   "cell_type": "code",
   "execution_count": 76,
   "metadata": {},
   "outputs": [
    {
     "data": {
      "image/png": "[encoded data removed]",
      "text/plain": [
       "<matplotlib.figure.Figure at 0x7fe80494f710>"
      ]
     },
     "metadata": {
      "needs_background": "light"
     },
     "output_type": "display_data"
    }
   ],
   "source": [
    "# How subscription type affect churn\n",
    "ax = sns.countplot(x=\"level\", hue=\"churn\", data=pd_df)\n",
    "ax.set_xlabel('Membership Type')\n",
    "plt.show()"
   ]
  },
  {
   "cell_type": "code",
   "execution_count": 77,
   "metadata": {},
   "outputs": [
    {
     "data": {
      "image/png": "[encoded data removed]",
      "text/plain": [
       "<matplotlib.figure.Figure at 0x7fe7a6bac2e8>"
      ]
     },
     "metadata": {
      "needs_background": "light"
     },
     "output_type": "display_data"
    }
   ],
   "source": [
    "# How membership duration affect churn\n",
    "ax = pd_df.pivot(columns='churn', values = 'duration_days').plot.hist()\n",
    "ax.set_xlabel('Membership Duration (days)')\n",
    "ax.set_ylabel('Count')\n",
    "plt.show()"
   ]
  },
  {
   "cell_type": "code",
   "execution_count": 78,
   "metadata": {},
   "outputs": [
    {
     "data": {
      "image/png": "[encoded data removed]",
      "text/plain": [
       "<matplotlib.figure.Figure at 0x7fe8039209e8>"
      ]
     },
     "metadata": {
      "needs_background": "light"
     },
     "output_type": "display_data"
    }
   ],
   "source": [
    "# How activities of users relate to churn\n",
    "# Group members by activity level\n",
    "activity_df = pd_df.groupby('userId').agg({'churn': ['max', 'count']}).reset_index()\n",
    "activity_df.columns = activity_df.columns.droplevel()\n",
    "activity_df.rename(columns={'max':'churn'}, inplace = True)\n",
    "# Plot activity levels\n",
    "ax = activity_df.pivot(columns='churn', values = 'count').plot.hist()\n",
    "ax.set_xlabel('Users Activity')\n",
    "plt.show()"
   ]
  },
  {
   "cell_type": "code",
   "execution_count": 79,
   "metadata": {},
   "outputs": [
    {
     "data": {
      "image/png": "[encoded data removed]",
      "text/plain": [
       "<matplotlib.figure.Figure at 0x7fe802de5358>"
      ]
     },
     "metadata": {
      "needs_background": "light"
     },
     "output_type": "display_data"
    }
   ],
   "source": [
    "# does location affect churn?\n",
    "plt.figure(figsize=(9,22))\n",
    "#plt.xticks(rotation = 90)\n",
    "ax = sns.countplot(y=\"location\", hue=\"churn\", data=pd_df)\n",
    "plt.legend(loc='upper right')\n",
    "plt.show()"
   ]
  },
  {
   "cell_type": "markdown",
   "metadata": {},
   "source": [
    "**Visualization Findings**\n",
    "\n",
    "- Gender: The number of female users in the dataset is higher than male yet more male users churned in comparison to females. Sex might be a good indicator of churn\n",
    "- Membership Type: Higher churn from paid members. But it is also important to note that this group is about four times the size of free users. No clear inference in this case but it should be a good indicator for churn as well.\n",
    "- Membership Duration(days): As expected old members are less likely to churn than newer users.\n",
    "- Activity: users with very high activity levels are less likely to churn - this is the count of the number of sessions had per user.\n",
    "- Location: It is clear from the chart above that location is a good indicator of churn, as users in certain regions are alot more likely to churn than others."
   ]
  },
  {
   "cell_type": "markdown",
   "metadata": {},
   "source": [
    "# Feature Engineering\n",
    "After exploring and visualizing the data. Useful features identified will now be created for training an ML model.\n",
    "\n",
    "   __gender:__ sex of member\n",
    "   <br>__level:__ membership type, paid or free\n",
    "   <br>__location:__ most location from where users use the service\n",
    "   <br>__avg_length__ average length of session per user\n",
    "   <br>__avg_iteminsession__ average number of songs played per session for each user\n",
    "   <br>__activity_count__ number of activity per user (proxy for songs played)\n",
    "   <br>__duration_days__ how many days a member has been registered on the platform\n",
    "   \n",
    "In this section, a function will be used to extract and create new features that will be used for the model."
   ]
  },
  {
   "cell_type": "code",
   "execution_count": 10,
   "metadata": {},
   "outputs": [],
   "source": [
    "def prep_data(data):\n",
    "    '''\n",
    "    This function would take in the raw data, process it and outputs cleaned_df ready for model\n",
    "    \n",
    "    Input:\n",
    "    raw sparkify customer usage data\n",
    "    \n",
    "    Output:\n",
    "    Final dataframe ready for model\n",
    "    '''\n",
    "    # Remove empty userIds\n",
    "    df = clean_data(data)\n",
    "    \n",
    "    # Identify churn\n",
    "    identify_churn = udf(lambda x: 1 if x == 'Cancellation Confirmation' else 0, IntegerType())\n",
    "    df = df.withColumn('churn_events', identify_churn(col('page')))\n",
    "    churned_users = df.select('userId','churn_events').filter(df['churn_events'] == 1).distinct()\n",
    "    # Create dataframe of churned users\n",
    "    churned_df = df.join(churned_users, \"userid\", \"inner\")\n",
    "    churned_df = churned_df.drop('churn_events')\n",
    "    churned_df = churned_df.withColumn('churn', lit(1))\n",
    "    # Prepare dataframe of staying users\n",
    "    staying_users = df.join(churned_users, [\"userId\"], \"left_anti\")\n",
    "    staying_users = staying_users.drop('churn_events')\n",
    "    staying_users = staying_users.withColumn('churn', lit(0))\n",
    "    # merge both dfs above to get a full dataframe with churn variable\n",
    "    df = staying_users.unionAll(churned_df)\n",
    "    \n",
    "    # Convert time stamp to data and time format\n",
    "    ts_to_time = udf(lambda x: datetime.datetime.fromtimestamp(x / 1000.0).strftime(\"%Y-%m-%d %H:%M:%S\"))\n",
    "    df = df.withColumn('ts_formatted', ts_to_time(df['ts']))\n",
    "    # Get membership duration in days\n",
    "    df = df.withColumn('registration_formatted', ts_to_time(df['registration']))\n",
    "    df = df.withColumn(\"duration_days\", datediff('ts_formatted','registration_formatted').cast(IntegerType()))\n",
    "    \n",
    "    # prepare features\n",
    "    df_final = df.groupBy('userId','churn')\\\n",
    "    .agg(avg('length').alias('avg_length'),\\\n",
    "         avg('iteminsession').alias('avg_iteminsession'),\\\n",
    "         count('userId').alias('activity_count'),\\\n",
    "         max('duration_days').alias('duration_days'),\\\n",
    "         max('gender').alias('md_gender'),\\\n",
    "         max('level').alias('md_level'),\\\n",
    "         max('location').alias('md_location')\\\n",
    "        )\n",
    "\n",
    "    return df_final"
   ]
  },
  {
   "cell_type": "code",
   "execution_count": 11,
   "metadata": {},
   "outputs": [],
   "source": [
    "# Run feature engineering step\n",
    "data = spark.read.json(path)\n",
    "df_final = prep_data(data)"
   ]
  },
  {
   "cell_type": "code",
   "execution_count": 37,
   "metadata": {},
   "outputs": [
    {
     "name": "stdout",
     "output_type": "stream",
     "text": [
      "+------+-----+------------------+------------------+--------------+-------------+---------+--------+--------------------+\n",
      "|userId|churn|        avg_length| avg_iteminsession|activity_count|duration_days|md_gender|md_level|         md_location|\n",
      "+------+-----+------------------+------------------+--------------+-------------+---------+--------+--------------------+\n",
      "|    19|    0|252.22654569444438|138.17374517374517|           259|           22|        F|    paid|          Dayton, OH|\n",
      "|100005|    1|240.50079227272732| 29.61111111111111|           216|           85|        M|    free|          Monroe, LA|\n",
      "|200007|    0|242.15183553846157|19.960526315789473|            76|           53|        F|    paid|New York-Newark-J...|\n",
      "|300007|    1| 252.5109052252254|              71.0|           143|           12|        M|    paid|Phoenix-Mesa-Scot...|\n",
      "|200002|    0|242.91699209302305| 60.57805907172996|           474|           70|        M|    paid|Chicago-Napervill...|\n",
      "|    50|    0|244.03832129224634|58.784946236559136|           651|           75|        F|    paid|         Dubuque, IA|\n",
      "|100011|    1|258.33631818181817|              11.0|            23|            5|        M|    free|          Albany, OR|\n",
      "|100012|    1|242.65410317226892|             72.23|           600|           43|        M|    paid|Chicago-Napervill...|\n",
      "|    30|    0| 253.9225445589271| 86.74985915492958|          1775|           63|        M|    paid|     Bakersfield, CA|\n",
      "|     8|    0|252.56387215139426|  49.8502994011976|           334|          115|        F|    free|    St. Louis, MO-IL|\n",
      "|     4|    0| 247.1386920800785|152.15233415233416|          2442|           63|        M|    paid|Baltimore-Columbi...|\n",
      "|    65|    0|250.52432816848042|101.32665094339623|          2544|           71|        M|    paid|         Concord, NH|\n",
      "|   101|    1|249.00612947690533|259.66775244299674|          2149|           54|        M|    paid|Denver-Aurora-Lak...|\n",
      "|    13|    0|245.03048538281232| 73.86698911729141|          1654|          119|        F|    paid|Philadelphia-Camd...|\n",
      "|   153|    0|248.13571783209386|141.12820512820514|          1131|           27|        M|    paid|Greensboro-High P...|\n",
      "|100014|    1|263.43763455252935|34.538709677419355|           310|           85|        M|    paid|New York-Newark-J...|\n",
      "|    42|    0|246.79344140218322|  81.5036410617806|          4257|           67|        F|    paid|        Danville, VA|\n",
      "|    62|    0|248.35831862979285|198.72437599575147|          1883|          134|        M|    paid|Houston-The Woodl...|\n",
      "|    94|    0|256.22409219178087| 24.56149732620321|           187|          133|        F|    free|Omaha-Council Blu...|\n",
      "|   114|    0|253.74343229102132| 79.45959922430511|          1547|           71|        M|    paid|Las Vegas-Henders...|\n",
      "+------+-----+------------------+------------------+--------------+-------------+---------+--------+--------------------+\n",
      "only showing top 20 rows\n",
      "\n"
     ]
    }
   ],
   "source": [
    "df_final.show()"
   ]
  },
  {
   "cell_type": "markdown",
   "metadata": {},
   "source": [
    "# Modeling\n",
    "The dataset will be splitted into train, test, and validation sets. Logistic Regression and RandomForest will be tested out and evaluated using the F1 score metric (given the inbalanced dataset of 52 churned users in comparison to 173 staying users). The better model will be further tuned for better results using Gridsearch and cross-validation, before finally predicting to the Validation set and testing the accuracy of the model."
   ]
  },
  {
   "cell_type": "code",
   "execution_count": 12,
   "metadata": {},
   "outputs": [],
   "source": [
    "# Split data into train, test and validation set\n",
    "df_final = df_final.withColumnRenamed(\"churn\", \"label\")\n",
    "\n",
    "train_df,test_df, val_df = df_final.randomSplit([0.5,0.25,0.25], seed = 40)"
   ]
  },
  {
   "cell_type": "code",
   "execution_count": 13,
   "metadata": {},
   "outputs": [],
   "source": [
    "# Create ML pipeline\n",
    "\n",
    "# Encode categorical features us pyspark encoder\n",
    "stringIndexerGender = StringIndexer(inputCol='md_gender', outputCol=\"genderIndex\", handleInvalid = 'skip')\n",
    "stringIndexerLevel = StringIndexer(inputCol='md_level', outputCol=\"levelIndex\", handleInvalid = 'skip')\n",
    "stringIndexerLocation = StringIndexer(inputCol='md_location', outputCol=\"locationIndex\", handleInvalid = 'skip')\n",
    "\n",
    "encoder = OneHotEncoderEstimator(inputCols=[\"genderIndex\", \"levelIndex\", \"locationIndex\"],\n",
    "                                       outputCols=[\"genderVec\", \"levelVec\", \"locationVec\"],\n",
    "                       handleInvalid = 'keep')\n",
    "\n",
    "# create vector for features\n",
    "features = ['genderVec', 'levelVec', 'locationVec', 'avg_length', 'avg_iteminsession', 'activity_count', 'duration_days']\n",
    "assembler = VectorAssembler(inputCols=features, outputCol=\"features\")"
   ]
  },
  {
   "cell_type": "code",
   "execution_count": 14,
   "metadata": {},
   "outputs": [],
   "source": [
    "def fit_eval(model, train_df = train_df, test_df = test_df):\n",
    "    '''''\n",
    "    This function fits and evaluate models using created pipeline and F1 score\n",
    "    \n",
    "    Inputs:\n",
    "    model   Initialized model to be fitted and evaluated\n",
    "    train_df   train dataset\n",
    "    test_df   test dataset \n",
    "    \n",
    "    Output:\n",
    "    the fitted model and f1 score\n",
    "    '''\n",
    "      \n",
    "    # Pipeline   \n",
    "    pipeline = Pipeline(stages = [stringIndexerGender, stringIndexerLevel, stringIndexerLocation, encoder, assembler, model])\n",
    "    \n",
    "    # Model & predict\n",
    "    model = pipeline.fit(train_df)\n",
    "    train_preds = model.transform(train_df)\n",
    "    test_preds = model.transform(test_df)\n",
    "    \n",
    "    # Evaluate model\n",
    "    predictionAndLabels_train = train_preds.rdd.map(lambda lp: (float(lp.prediction), float(lp.label)))\n",
    "    metrics_train = MulticlassMetrics(predictionAndLabels_train)\n",
    "    print('training and evaluation completed for train data')\n",
    "    \n",
    "    predictionAndLabels_test = test_preds.rdd.map(lambda lp: (float(lp.prediction), float(lp.label)))\n",
    "    metrics_test = MulticlassMetrics(predictionAndLabels_test)\n",
    "    print('training and evaluation completed for test data')\n",
    "    \n",
    "    print(\"F1 score on train data is %s\" % metrics_train.fMeasure())\n",
    "    print(\"F1 score on test data is %s\" % metrics_test.fMeasure())\n",
    "    \n",
    "    return model\n",
    "    "
   ]
  },
  {
   "cell_type": "code",
   "execution_count": 53,
   "metadata": {},
   "outputs": [
    {
     "name": "stdout",
     "output_type": "stream",
     "text": [
      "training and evaluation completed for train data\n",
      "training and evaluation completed for test data\n",
      "F1 score on train data is 0.9366197183098591\n",
      "F1 score on test data is 0.8214285714285714\n"
     ]
    }
   ],
   "source": [
    "# Train and test a logistic regression\n",
    "#with active_session():\n",
    "lr = LogisticRegression(featuresCol=\"features\", labelCol='label')\n",
    "\n",
    "lr_model = fit_eval(lr)\n"
   ]
  },
  {
   "cell_type": "code",
   "execution_count": 15,
   "metadata": {},
   "outputs": [
    {
     "name": "stdout",
     "output_type": "stream",
     "text": [
      "training and evaluation completed for train data\n",
      "training and evaluation completed for test data\n",
      "F1 score on train data is 0.8813559322033898\n",
      "F1 score on test data is 0.8333333333333334\n"
     ]
    }
   ],
   "source": [
    "#Testing a RandomForestclassifier\n",
    "rf = RandomForestClassifier(featuresCol=\"features\", labelCol='label')\n",
    "\n",
    "rf_model = fit_eval(rf)\n"
   ]
  },
  {
   "cell_type": "markdown",
   "metadata": {},
   "source": [
    "**Since RandomForest worked better, Model will be tuned with cross-validation and Grid-search to find best performance**"
   ]
  },
  {
   "cell_type": "code",
   "execution_count": 16,
   "metadata": {},
   "outputs": [],
   "source": [
    "# Do a cross validation Using RandomForest\n",
    "clf = RandomForestClassifier(featuresCol=\"features\", labelCol='label')\n",
    "\n",
    "  \n",
    "pipeline = Pipeline(stages = [stringIndexerGender, stringIndexerLevel, stringIndexerLocation, encoder, assembler, clf])\n",
    "\n",
    "\n",
    "# Set up cross validation with grid search\n",
    "paramGrid = ParamGridBuilder() \\\n",
    "    .addGrid(clf.numTrees, [10, 25, 50, 100]) \\\n",
    "    .addGrid(clf.maxDepth, [3, 5, 10]) \\\n",
    "    .addGrid(clf.impurity, ['entropy', 'gini'])\\\n",
    "    .build()\n",
    "\n",
    "\n",
    "# Cross validator with random search\n",
    "cv = CrossValidator(\n",
    "                    estimator = clf, \n",
    "                    estimatorParamMaps = paramGrid, \n",
    "                    evaluator = MulticlassClassificationEvaluator(),\n",
    "                    parallelism = 2\n",
    "                   )\n",
    "\n",
    "cvModel = pipeline.fit(train_df)\n",
    "\n",
    "#cv_model = fit_eval(cv)"
   ]
  },
  {
   "cell_type": "code",
   "execution_count": 17,
   "metadata": {},
   "outputs": [
    {
     "name": "stdout",
     "output_type": "stream",
     "text": [
      "F1 score on test data is 0.8333333333333334\n"
     ]
    }
   ],
   "source": [
    "test_preds = cvModel.transform(test_df)\n",
    "predictionAndLabels = test_preds.rdd.map(lambda lp: (float(lp.prediction), float(lp.label)))\n",
    "metrics = MulticlassMetrics(predictionAndLabels)\n",
    "print(\"F1 score on test data is %s\" % metrics.fMeasure())"
   ]
  },
  {
   "cell_type": "code",
   "execution_count": 18,
   "metadata": {},
   "outputs": [
    {
     "name": "stdout",
     "output_type": "stream",
     "text": [
      "F1 score on validation data is 0.8888888888888888\n"
     ]
    }
   ],
   "source": [
    "# Predict to validation set Using the best model\n",
    "\n",
    "validation_preds = cvModel.transform(val_df)\n",
    "predictionAndLabels = validation_preds.rdd.map(lambda lp: (float(lp.prediction), float(lp.label)))\n",
    "metrics = MulticlassMetrics(predictionAndLabels)\n",
    "print(\"F1 score on validation data is %s\" % metrics.fMeasure())"
   ]
  },
  {
   "cell_type": "code",
   "execution_count": 24,
   "metadata": {},
   "outputs": [
    {
     "data": {
      "text/plain": [
       "array([ 0.,  1.])"
      ]
     },
     "execution_count": 24,
     "metadata": {},
     "output_type": "execute_result"
    }
   ],
   "source": [
    "val_df = validation_preds.select('label', 'prediction', 'probability').toPandas()\n",
    "# Check model predictions\n",
    "val_df['prediction'].unique()"
   ]
  },
  {
   "cell_type": "code",
   "execution_count": 25,
   "metadata": {},
   "outputs": [
    {
     "data": {
      "text/html": [
       "<div>\n",
       "<style scoped>\n",
       "    .dataframe tbody tr th:only-of-type {\n",
       "        vertical-align: middle;\n",
       "    }\n",
       "\n",
       "    .dataframe tbody tr th {\n",
       "        vertical-align: top;\n",
       "    }\n",
       "\n",
       "    .dataframe thead th {\n",
       "        text-align: right;\n",
       "    }\n",
       "</style>\n",
       "<table border=\"1\" class=\"dataframe\">\n",
       "  <thead>\n",
       "    <tr style=\"text-align: right;\">\n",
       "      <th></th>\n",
       "      <th>label</th>\n",
       "      <th>prediction</th>\n",
       "      <th>probability</th>\n",
       "    </tr>\n",
       "  </thead>\n",
       "  <tbody>\n",
       "    <tr>\n",
       "      <th>0</th>\n",
       "      <td>1</td>\n",
       "      <td>0.0</td>\n",
       "      <td>[0.764848304296, 0.235151695704]</td>\n",
       "    </tr>\n",
       "    <tr>\n",
       "      <th>1</th>\n",
       "      <td>0</td>\n",
       "      <td>0.0</td>\n",
       "      <td>[0.853793313462, 0.146206686538]</td>\n",
       "    </tr>\n",
       "    <tr>\n",
       "      <th>2</th>\n",
       "      <td>0</td>\n",
       "      <td>0.0</td>\n",
       "      <td>[0.854100699388, 0.145899300612]</td>\n",
       "    </tr>\n",
       "    <tr>\n",
       "      <th>3</th>\n",
       "      <td>0</td>\n",
       "      <td>0.0</td>\n",
       "      <td>[0.854100699388, 0.145899300612]</td>\n",
       "    </tr>\n",
       "    <tr>\n",
       "      <th>4</th>\n",
       "      <td>1</td>\n",
       "      <td>1.0</td>\n",
       "      <td>[0.452174528838, 0.547825471162]</td>\n",
       "    </tr>\n",
       "    <tr>\n",
       "      <th>5</th>\n",
       "      <td>0</td>\n",
       "      <td>0.0</td>\n",
       "      <td>[0.889018336433, 0.110981663567]</td>\n",
       "    </tr>\n",
       "    <tr>\n",
       "      <th>6</th>\n",
       "      <td>0</td>\n",
       "      <td>0.0</td>\n",
       "      <td>[0.892351669766, 0.107648330234]</td>\n",
       "    </tr>\n",
       "    <tr>\n",
       "      <th>7</th>\n",
       "      <td>0</td>\n",
       "      <td>0.0</td>\n",
       "      <td>[0.87798464214, 0.12201535786]</td>\n",
       "    </tr>\n",
       "    <tr>\n",
       "      <th>8</th>\n",
       "      <td>0</td>\n",
       "      <td>0.0</td>\n",
       "      <td>[0.853338354283, 0.146661645717]</td>\n",
       "    </tr>\n",
       "    <tr>\n",
       "      <th>9</th>\n",
       "      <td>0</td>\n",
       "      <td>0.0</td>\n",
       "      <td>[0.891786254129, 0.108213745871]</td>\n",
       "    </tr>\n",
       "    <tr>\n",
       "      <th>10</th>\n",
       "      <td>1</td>\n",
       "      <td>0.0</td>\n",
       "      <td>[0.64399771569, 0.35600228431]</td>\n",
       "    </tr>\n",
       "    <tr>\n",
       "      <th>11</th>\n",
       "      <td>0</td>\n",
       "      <td>0.0</td>\n",
       "      <td>[0.901945337529, 0.0980546624711]</td>\n",
       "    </tr>\n",
       "    <tr>\n",
       "      <th>12</th>\n",
       "      <td>1</td>\n",
       "      <td>0.0</td>\n",
       "      <td>[0.886510719237, 0.113489280763]</td>\n",
       "    </tr>\n",
       "    <tr>\n",
       "      <th>13</th>\n",
       "      <td>0</td>\n",
       "      <td>0.0</td>\n",
       "      <td>[0.853661725473, 0.146338274527]</td>\n",
       "    </tr>\n",
       "    <tr>\n",
       "      <th>14</th>\n",
       "      <td>0</td>\n",
       "      <td>0.0</td>\n",
       "      <td>[0.849707046208, 0.150292953792]</td>\n",
       "    </tr>\n",
       "    <tr>\n",
       "      <th>15</th>\n",
       "      <td>0</td>\n",
       "      <td>0.0</td>\n",
       "      <td>[0.861347266034, 0.138652733966]</td>\n",
       "    </tr>\n",
       "    <tr>\n",
       "      <th>16</th>\n",
       "      <td>0</td>\n",
       "      <td>0.0</td>\n",
       "      <td>[0.803535445934, 0.196464554066]</td>\n",
       "    </tr>\n",
       "    <tr>\n",
       "      <th>17</th>\n",
       "      <td>0</td>\n",
       "      <td>0.0</td>\n",
       "      <td>[0.889442504129, 0.110557495871]</td>\n",
       "    </tr>\n",
       "    <tr>\n",
       "      <th>18</th>\n",
       "      <td>0</td>\n",
       "      <td>0.0</td>\n",
       "      <td>[0.843655094109, 0.156344905891]</td>\n",
       "    </tr>\n",
       "    <tr>\n",
       "      <th>19</th>\n",
       "      <td>0</td>\n",
       "      <td>0.0</td>\n",
       "      <td>[0.647415738218, 0.352584261782]</td>\n",
       "    </tr>\n",
       "    <tr>\n",
       "      <th>20</th>\n",
       "      <td>0</td>\n",
       "      <td>0.0</td>\n",
       "      <td>[0.804521574809, 0.195478425191]</td>\n",
       "    </tr>\n",
       "    <tr>\n",
       "      <th>21</th>\n",
       "      <td>1</td>\n",
       "      <td>1.0</td>\n",
       "      <td>[0.484845747326, 0.515154252674]</td>\n",
       "    </tr>\n",
       "    <tr>\n",
       "      <th>22</th>\n",
       "      <td>0</td>\n",
       "      <td>0.0</td>\n",
       "      <td>[0.805216827943, 0.194783172057]</td>\n",
       "    </tr>\n",
       "    <tr>\n",
       "      <th>23</th>\n",
       "      <td>0</td>\n",
       "      <td>0.0</td>\n",
       "      <td>[0.883673063341, 0.116326936659]</td>\n",
       "    </tr>\n",
       "    <tr>\n",
       "      <th>24</th>\n",
       "      <td>0</td>\n",
       "      <td>0.0</td>\n",
       "      <td>[0.898407922563, 0.101592077437]</td>\n",
       "    </tr>\n",
       "    <tr>\n",
       "      <th>25</th>\n",
       "      <td>0</td>\n",
       "      <td>0.0</td>\n",
       "      <td>[0.821480971935, 0.178519028065]</td>\n",
       "    </tr>\n",
       "    <tr>\n",
       "      <th>26</th>\n",
       "      <td>0</td>\n",
       "      <td>0.0</td>\n",
       "      <td>[0.853918126645, 0.146081873355]</td>\n",
       "    </tr>\n",
       "    <tr>\n",
       "      <th>27</th>\n",
       "      <td>0</td>\n",
       "      <td>0.0</td>\n",
       "      <td>[0.893407922563, 0.106592077437]</td>\n",
       "    </tr>\n",
       "    <tr>\n",
       "      <th>28</th>\n",
       "      <td>0</td>\n",
       "      <td>0.0</td>\n",
       "      <td>[0.884410024793, 0.115589975207]</td>\n",
       "    </tr>\n",
       "    <tr>\n",
       "      <th>29</th>\n",
       "      <td>1</td>\n",
       "      <td>0.0</td>\n",
       "      <td>[0.890075569856, 0.109924430144]</td>\n",
       "    </tr>\n",
       "    <tr>\n",
       "      <th>30</th>\n",
       "      <td>0</td>\n",
       "      <td>0.0</td>\n",
       "      <td>[0.891593855421, 0.108406144579]</td>\n",
       "    </tr>\n",
       "    <tr>\n",
       "      <th>31</th>\n",
       "      <td>0</td>\n",
       "      <td>0.0</td>\n",
       "      <td>[0.753961824509, 0.246038175491]</td>\n",
       "    </tr>\n",
       "    <tr>\n",
       "      <th>32</th>\n",
       "      <td>0</td>\n",
       "      <td>0.0</td>\n",
       "      <td>[0.895822888549, 0.104177111451]</td>\n",
       "    </tr>\n",
       "    <tr>\n",
       "      <th>33</th>\n",
       "      <td>0</td>\n",
       "      <td>0.0</td>\n",
       "      <td>[0.851926161759, 0.148073838241]</td>\n",
       "    </tr>\n",
       "    <tr>\n",
       "      <th>34</th>\n",
       "      <td>0</td>\n",
       "      <td>0.0</td>\n",
       "      <td>[0.891362086433, 0.108637913567]</td>\n",
       "    </tr>\n",
       "    <tr>\n",
       "      <th>35</th>\n",
       "      <td>0</td>\n",
       "      <td>0.0</td>\n",
       "      <td>[0.901752593765, 0.0982474062353]</td>\n",
       "    </tr>\n",
       "  </tbody>\n",
       "</table>\n",
       "</div>"
      ],
      "text/plain": [
       "    label  prediction                        probability\n",
       "0       1         0.0   [0.764848304296, 0.235151695704]\n",
       "1       0         0.0   [0.853793313462, 0.146206686538]\n",
       "2       0         0.0   [0.854100699388, 0.145899300612]\n",
       "3       0         0.0   [0.854100699388, 0.145899300612]\n",
       "4       1         1.0   [0.452174528838, 0.547825471162]\n",
       "5       0         0.0   [0.889018336433, 0.110981663567]\n",
       "6       0         0.0   [0.892351669766, 0.107648330234]\n",
       "7       0         0.0     [0.87798464214, 0.12201535786]\n",
       "8       0         0.0   [0.853338354283, 0.146661645717]\n",
       "9       0         0.0   [0.891786254129, 0.108213745871]\n",
       "10      1         0.0     [0.64399771569, 0.35600228431]\n",
       "11      0         0.0  [0.901945337529, 0.0980546624711]\n",
       "12      1         0.0   [0.886510719237, 0.113489280763]\n",
       "13      0         0.0   [0.853661725473, 0.146338274527]\n",
       "14      0         0.0   [0.849707046208, 0.150292953792]\n",
       "15      0         0.0   [0.861347266034, 0.138652733966]\n",
       "16      0         0.0   [0.803535445934, 0.196464554066]\n",
       "17      0         0.0   [0.889442504129, 0.110557495871]\n",
       "18      0         0.0   [0.843655094109, 0.156344905891]\n",
       "19      0         0.0   [0.647415738218, 0.352584261782]\n",
       "20      0         0.0   [0.804521574809, 0.195478425191]\n",
       "21      1         1.0   [0.484845747326, 0.515154252674]\n",
       "22      0         0.0   [0.805216827943, 0.194783172057]\n",
       "23      0         0.0   [0.883673063341, 0.116326936659]\n",
       "24      0         0.0   [0.898407922563, 0.101592077437]\n",
       "25      0         0.0   [0.821480971935, 0.178519028065]\n",
       "26      0         0.0   [0.853918126645, 0.146081873355]\n",
       "27      0         0.0   [0.893407922563, 0.106592077437]\n",
       "28      0         0.0   [0.884410024793, 0.115589975207]\n",
       "29      1         0.0   [0.890075569856, 0.109924430144]\n",
       "30      0         0.0   [0.891593855421, 0.108406144579]\n",
       "31      0         0.0   [0.753961824509, 0.246038175491]\n",
       "32      0         0.0   [0.895822888549, 0.104177111451]\n",
       "33      0         0.0   [0.851926161759, 0.148073838241]\n",
       "34      0         0.0   [0.891362086433, 0.108637913567]\n",
       "35      0         0.0  [0.901752593765, 0.0982474062353]"
      ]
     },
     "execution_count": 25,
     "metadata": {},
     "output_type": "execute_result"
    }
   ],
   "source": [
    "val_df"
   ]
  },
  {
   "cell_type": "markdown",
   "metadata": {},
   "source": [
    "# Conclusion\n",
    "RandomForest seemed to have performed better than the LogisticRegression model on the test Set. See results below:\n",
    "\n",
    "            Model     /     Results on Train Set /   Result on Test Set\n",
    "    Logistic regression Model /       0.93 /            0.82\n",
    "    RandomForest Classifier   /       0.88 /            0.83\n",
    "\n",
    "After tuning the Randomforest using gridsearch and cross-validation, the following result was gotten for prediction on test and validation set:\n",
    "\n",
    "    Result on Test Set/    Result on validation Set\n",
    "            0.83                  0.88\n",
    "        \n",
    "__NOTE:__ Allresults reported were evaluated using the F1 score metric"
   ]
  }
 ],
 "metadata": {
  "kernelspec": {
   "display_name": "Python 3",
   "language": "python",
   "name": "python3"
  },
  "language_info": {
   "codemirror_mode": {
    "name": "ipython",
    "version": 3
   },
   "file_extension": ".py",
   "mimetype": "text/x-python",
   "name": "python",
   "nbconvert_exporter": "python",
   "pygments_lexer": "ipython3",
   "version": "3.6.3"
  }
 },
 "nbformat": 4,
 "nbformat_minor": 2
}
